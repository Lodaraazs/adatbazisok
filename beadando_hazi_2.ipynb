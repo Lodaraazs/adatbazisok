{
    "metadata": {
        "kernelspec": {
            "name": "SQL",
            "display_name": "SQL",
            "language": "sql"
        },
        "language_info": {
            "name": "sql",
            "version": ""
        }
    },
    "nbformat_minor": 2,
    "nbformat": 4,
    "cells": [
        {
            "cell_type": "code",
            "source": [
                "CREATE TABLE Ugyfel_Maszkolt\r\n",
                "(LOGIN varchar(100),\r\n",
                "NEV nvarchar(100) MASKED WITH (Function = 'partial(1,\"XXX\",1)'),\r\n",
                "EMAIL nvarchar(100) MASKED WITH (function = 'email()'),\r\n",
                "SZULEV int MASKED WITH (function = 'random(1,15)'),\r\n",
                "NEM NVARCHAR(1),\r\n",
                "CIM NVARCHAR(100)\r\n",
                ")"
            ],
            "metadata": {
                "azdata_cell_guid": "38eb2daf-5c90-43fe-a11b-77c57541af53",
                "language": "sql",
                "tags": []
            },
            "outputs": [],
            "execution_count": null
        },
        {
            "cell_type": "code",
            "source": [
                "INSERT INTO Ugyfel_Maszkolt \r\n",
                "(LOGIN, NEV, EMAIL, SZULEV, NEM, CIM)\r\n",
                "SELECT LOGIN, NEV, EMAIL, SZULEV, NEM, CIM\r\n",
                "FROM Ugyfel"
            ],
            "metadata": {
                "azdata_cell_guid": "365bc757-53ff-4f89-8f0a-e0022634841b",
                "language": "sql",
                "tags": []
            },
            "outputs": [],
            "execution_count": null
        },
        {
            "cell_type": "code",
            "source": [
                "CREATE USER MaszkoltFelhasznalo  WITHOUT Login;\r\n",
                "GRANT SELECT ON Ugyfel_Maszkolt TO MaskUser"
            ],
            "metadata": {
                "azdata_cell_guid": "180cdc1e-6dbe-4ff7-95aa-4e56ee6ac1fd",
                "language": "sql"
            },
            "outputs": [],
            "execution_count": null
        },
        {
            "cell_type": "code",
            "source": [
                "EXECUTE AS User= 'MaszkoltFelhasznalo';\r\n",
                "SELECT * FROM Ugyfel_Maszkolt\r\n",
                "REVERT"
            ],
            "metadata": {
                "azdata_cell_guid": "b821e6e8-7ad2-4020-8409-ee6329e902aa",
                "language": "sql"
            },
            "outputs": [],
            "execution_count": null
        }
    ]
}