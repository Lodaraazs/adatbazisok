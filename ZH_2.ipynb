{
    "metadata": {
        "kernelspec": {
            "name": "SQL",
            "display_name": "SQL",
            "language": "sql"
        },
        "language_info": {
            "name": "sql",
            "version": ""
        }
    },
    "nbformat_minor": 2,
    "nbformat": 4,
    "cells": [
        {
            "cell_type": "code",
            "source": [
                "SELECT sz.szoba_id,\r\n",
                "       sz.ferohely,\r\n",
                "       DENSE_RANK() OVER(PARTITION BY sz.szoba_id\r\n",
                "                         ORDER BY COUNT(f.FOGLALAS_PK) DESC, sz.ferohely)\r\n",
                "FROM szoba sz JOIN Foglalas f ON f.SZOBA_FK = sz.SZOBA_ID\r\n",
                "GROUP BY sz.SZOBA_ID, sz.FEROHELY"
            ],
            "metadata": {
                "azdata_cell_guid": "2fd0ee26-f82a-4bbe-ba59-963363ef7f4e",
                "language": "sql"
            },
            "outputs": [],
            "execution_count": null
        },
        {
            "cell_type": "code",
            "source": [
                "SELECT *\r\n",
                "FROM Foglalas f JOIN Vendeg v ON f.UGYFEL_FK = v.USERNEV\r\n",
                "WHERE SZUL_DAT IN (\r\n",
                "    SELECT MAX(SZUL_DAT)\r\n",
                "    FROM vendeg\r\n",
                "    WHERE SZUL_DAT NOT IN (\r\n",
                "        SELECT MAX(SZUL_DAT)\r\n",
                "        FROM Vendeg\r\n",
                "    )\r\n",
                ")"
            ],
            "metadata": {
                "azdata_cell_guid": "012e37bb-8002-4b92-9199-05c6633f7f54",
                "language": "sql"
            },
            "outputs": [],
            "execution_count": null
        }
    ]
}