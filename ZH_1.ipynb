{
    "metadata": {
        "kernelspec": {
            "name": "SQL",
            "display_name": "SQL",
            "language": "sql"
        },
        "language_info": {
            "name": "sql",
            "version": ""
        }
    },
    "nbformat_minor": 2,
    "nbformat": 4,
    "cells": [
        {
            "cell_type": "code",
            "source": [
                "-- Első feladat\r\n",
                "\r\n",
                "SELECT  TIPUS AS 'SZálláshely típusa', \r\n",
                "        ROUND(AVG(CSILLAGOK_SZAMA), 0) AS 'Csillagok száma'\r\n",
                "FROM szallashely\r\n",
                "GROUP BY TIPUS\r\n",
                "HAVING ROUND(AVG(CSILLAGOK_SZAMA), 0) >= 3\r\n",
                "\r\n",
                "EXCEPT\r\n",
                "\r\n",
                "SELECT  TIPUS AS 'SZálláshely típusa',\r\n",
                "        ROUND(AVG(CSILLAGOK_SZAMA), 0) AS 'Csillagok száma'\r\n",
                "FROM szallashely\r\n",
                "WHERE TIPUS = 'panzió'\r\n",
                "GROUP BY TIPUS"
            ],
            "metadata": {
                "azdata_cell_guid": "6fc9830e-2f4b-4635-975d-b3d5e33f422e",
                "language": "sql"
            },
            "outputs": [
                {
                    "output_type": "display_data",
                    "data": {
                        "text/html": "(1 row affected)"
                    },
                    "metadata": {}
                },
                {
                    "output_type": "display_data",
                    "data": {
                        "text/html": "Total execution time: 00:00:00.011"
                    },
                    "metadata": {}
                },
                {
                    "output_type": "execute_result",
                    "metadata": {},
                    "execution_count": 47,
                    "data": {
                        "application/vnd.dataresource+json": {
                            "schema": {
                                "fields": [
                                    {
                                        "name": "SZálláshely típusa"
                                    },
                                    {
                                        "name": "Csillagok száma"
                                    }
                                ]
                            },
                            "data": [
                                {
                                    "SZálláshely típusa": "Hotel",
                                    "Csillagok száma": "3"
                                }
                            ]
                        },
                        "text/html": [
                            "<table>",
                            "<tr><th>SZálláshely típusa</th><th>Csillagok száma</th></tr>",
                            "<tr><td>Hotel</td><td>3</td></tr>",
                            "</table>"
                        ]
                    }
                }
            ],
            "execution_count": 47
        },
        {
            "cell_type": "code",
            "source": [
                "-- Második feladat\r\n",
                "\r\n",
                "SELECT  sza.SZALLAS_NEV AS 'Szálláshely neve', \r\n",
                "        COUNT(f.FOGLALAS_PK) AS 'Foglalások száma'\r\n",
                "FROM Foglalas f     right JOIN Szoba szo ON f.SZOBA_FK = szo.SZOBA_ID \r\n",
                "                    right JOIN szallashely sza ON sza.SZALLAS_ID  = szo.SZALLAS_FK \r\n",
                "GROUP BY sza.SZALLAS_NEV"
            ],
            "metadata": {
                "azdata_cell_guid": "d3d54631-8eb9-49c5-a28f-af38786e61ba",
                "language": "sql"
            },
            "outputs": [
                {
                    "output_type": "display_data",
                    "data": {
                        "text/html": "Warning: Null value is eliminated by an aggregate or other SET operation."
                    },
                    "metadata": {}
                },
                {
                    "output_type": "display_data",
                    "data": {
                        "text/html": "(18 rows affected)"
                    },
                    "metadata": {}
                },
                {
                    "output_type": "display_data",
                    "data": {
                        "text/html": "Total execution time: 00:00:00.023"
                    },
                    "metadata": {}
                },
                {
                    "output_type": "execute_result",
                    "metadata": {},
                    "execution_count": 45,
                    "data": {
                        "application/vnd.dataresource+json": {
                            "schema": {
                                "fields": [
                                    {
                                        "name": "Szálláshely neve"
                                    },
                                    {
                                        "name": "Foglalások száma"
                                    }
                                ]
                            },
                            "data": [
                                {
                                    "Szálláshely neve": "Szieszta Apartmanház",
                                    "Foglalások száma": "34"
                                },
                                {
                                    "Szálláshely neve": "Fortuna Panzió",
                                    "Foglalások száma": "126"
                                },
                                {
                                    "Szálláshely neve": "Nyárfás Vendégház",
                                    "Foglalások száma": "0"
                                },
                                {
                                    "Szálláshely neve": "Kentaur Hotel",
                                    "Foglalások száma": "179"
                                },
                                {
                                    "Szálláshely neve": "Partiszél Vendégház",
                                    "Foglalások száma": "26"
                                },
                                {
                                    "Szálláshely neve": "Riviéra Panzió",
                                    "Foglalások száma": "0"
                                },
                                {
                                    "Szálláshely neve": "Sába-Ház",
                                    "Foglalások száma": "70"
                                },
                                {
                                    "Szálláshely neve": "Tímárház Panzió",
                                    "Foglalások száma": "0"
                                },
                                {
                                    "Szálláshely neve": "Bagoly Hotel",
                                    "Foglalások száma": "0"
                                },
                                {
                                    "Szálláshely neve": "Müller Vendégház",
                                    "Foglalások száma": "0"
                                },
                                {
                                    "Szálláshely neve": "Családi Ház",
                                    "Foglalások száma": "18"
                                },
                                {
                                    "Szálláshely neve": "Fortuna Apartman",
                                    "Foglalások száma": "39"
                                },
                                {
                                    "Szálláshely neve": "Szarvas Hotel",
                                    "Foglalások száma": "0"
                                },
                                {
                                    "Szálláshely neve": "Hotel Három Hattyú",
                                    "Foglalások száma": "204"
                                },
                                {
                                    "Szálláshely neve": "Jáde panzió",
                                    "Foglalások száma": "29"
                                },
                                {
                                    "Szálláshely neve": "Lagúna Hotel",
                                    "Foglalások száma": "123"
                                },
                                {
                                    "Szálláshely neve": "Gold Hotel",
                                    "Foglalások száma": "179"
                                },
                                {
                                    "Szálláshely neve": "Kollégium",
                                    "Foglalások száma": "0"
                                }
                            ]
                        },
                        "text/html": [
                            "<table>",
                            "<tr><th>Szálláshely neve</th><th>Foglalások száma</th></tr>",
                            "<tr><td>Szieszta Apartmanház</td><td>34</td></tr>",
                            "<tr><td>Fortuna Panzió</td><td>126</td></tr>",
                            "<tr><td>Nyárfás Vendégház</td><td>0</td></tr>",
                            "<tr><td>Kentaur Hotel</td><td>179</td></tr>",
                            "<tr><td>Partiszél Vendégház</td><td>26</td></tr>",
                            "<tr><td>Riviéra Panzió</td><td>0</td></tr>",
                            "<tr><td>Sába-Ház</td><td>70</td></tr>",
                            "<tr><td>Tímárház Panzió</td><td>0</td></tr>",
                            "<tr><td>Bagoly Hotel</td><td>0</td></tr>",
                            "<tr><td>Müller Vendégház</td><td>0</td></tr>",
                            "<tr><td>Családi Ház</td><td>18</td></tr>",
                            "<tr><td>Fortuna Apartman</td><td>39</td></tr>",
                            "<tr><td>Szarvas Hotel</td><td>0</td></tr>",
                            "<tr><td>Hotel Három Hattyú</td><td>204</td></tr>",
                            "<tr><td>Jáde panzió</td><td>29</td></tr>",
                            "<tr><td>Lagúna Hotel</td><td>123</td></tr>",
                            "<tr><td>Gold Hotel</td><td>179</td></tr>",
                            "<tr><td>Kollégium</td><td>0</td></tr>",
                            "</table>"
                        ]
                    }
                }
            ],
            "execution_count": 45
        }
    ]
}